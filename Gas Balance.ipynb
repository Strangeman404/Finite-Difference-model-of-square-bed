{
 "cells": [
  {
   "cell_type": "code",
   "execution_count": 1,
   "metadata": {},
   "outputs": [],
   "source": [
    "import numpy as np\n",
    "from matplotlib import pyplot as plt\n",
    "import xlsxwriter\n",
    "%matplotlib inline"
   ]
  },
  {
   "cell_type": "markdown",
   "metadata": {},
   "source": [
    "## Gas Energy balance\n",
    "Backward difference for both time and space"
   ]
  },
  {
   "cell_type": "markdown",
   "metadata": {},
   "source": [
    "Overall Gas energy balance\n",
    "<br> <br>\n",
    "-$\\rho$u$C_{p,g}$$\\frac{\\delta T_g}{\\delta x}$\n",
    "$+$ $\\frac{\\delta}{\\delta x}$($k_{g}$$\\frac{\\delta T_g}{\\delta x}$)\n",
    "$-$ $h_{f}$$a_{f}$($T_{g}$-$T_{s}$) $=$ $\\rho$$C_{p,g}$$\\frac{\\delta T_g}{\\delta t}$\n",
    "<br> <br>"
   ]
  },
  {
   "cell_type": "code",
   "execution_count": 2,
   "metadata": {},
   "outputs": [],
   "source": [
    "def parameters(var):\n",
    "    δx,δt = var\n",
    "    ρ = ρg\n",
    "    Cp = Cpg\n",
    "    A = -δt*h*a/(V*ρ*Cp) + kg*δt/(ρ*Cp*δx**2) - u*δt/δx - 1\n",
    "    B = -2*kg*δt/(ρ*Cp*δx**2) + u*δt/δx\n",
    "    C = kg*δt/(ρ*Cp*δx**2)\n",
    "    D = -δt*h*a/(V*ρ*Cp)\n",
    "    \n",
    "    \n",
    "#     A = -δt*h*a/(V*ρ*Cp) + kg*δt/(ρ*Cp*δx**2) + u*δt/δx - 1\n",
    "#     B = -2*kg*δt/(ρ*Cp*δx**2) - u*δt/δx\n",
    "#     C = kg*δt/(ρ*Cp*δx**2)\n",
    "#     D = -δt*h*a/(u*ρ*Cp)\n",
    "    \n",
    "#     A = -δt*h*a/(V*ρ*Cp) + kg*δt/(ρ*Cp*δx**2) - u*δt/δx - 1\n",
    "#     B = 2*kg*δt/(ρ*Cp*δx**2) + u*δt/δx\n",
    "#     C = kg*δt/(ρ*Cp*δx**2)\n",
    "#     D = δt*h*a/(u*ρ*Cp)\n",
    "    return A,B,C,D"
   ]
  },
  {
   "cell_type": "code",
   "execution_count": 3,
   "metadata": {},
   "outputs": [],
   "source": [
    "def Matrix(var):\n",
    "    N,δx,δt = var\n",
    "    \n",
    "    M = np.zeros((N,N))\n",
    "    \n",
    "    for i in range(N):\n",
    "        A,B,C,D = parameters([δx,δt])\n",
    "        if i == 0:\n",
    "            M[0,0] = 1\n",
    "        elif i == N:\n",
    "            M[N,N] = A+B\n",
    "            M[N,N-2] = C\n",
    "        else:\n",
    "            M[i,i] = A \n",
    "            M[i,i-1] = B\n",
    "            M[i,i-2] = C\n",
    "    return M"
   ]
  },
  {
   "cell_type": "code",
   "execution_count": 4,
   "metadata": {},
   "outputs": [],
   "source": [
    "def Ans_Matrix(var):\n",
    "    A_in,N,δx,δt = var\n",
    "    A,B,C,D = parameters([δx,δt])\n",
    "\n",
    "    A_times = np.full((N,1),-1)\n",
    "    A_times[0,0] = 1\n",
    "    A_add = np.full((N,1),D*Ts)\n",
    "    A_add[0,0] = 0\n",
    "    A = A_in*A_times + A_add\n",
    "    return A"
   ]
  },
  {
   "cell_type": "code",
   "execution_count": 5,
   "metadata": {},
   "outputs": [],
   "source": [
    "def Temp_check(var):\n",
    "    Y,N = var\n",
    "    for i in range(N):\n",
    "        if Y[i,0]>Ts:\n",
    "            Y[i,0] = Ts\n",
    "        elif Y[i,0] < To:\n",
    "            Y[i,0] = To\n",
    "        else:\n",
    "            Y[i,0] = Y[i,0]\n",
    "    return Y"
   ]
  },
  {
   "cell_type": "code",
   "execution_count": 6,
   "metadata": {},
   "outputs": [],
   "source": [
    "def Simulation(var):\n",
    "    Nt,N,δx,δt = var\n",
    "    A_in = np.full((N,1),To)\n",
    "    for i in range(Nt):\n",
    "        A = Ans_Matrix([A_in,N,δx,δt])\n",
    "        M = Matrix([N,δx,δt])\n",
    "        Y = np.linalg.solve(M,A)\n",
    "        \n",
    "        Y_1 = Temp_check([Y,N])\n",
    "        \n",
    "        A_in = Y_1\n",
    "        A_list.append(A_in)\n",
    "    return A_list"
   ]
  },
  {
   "cell_type": "code",
   "execution_count": 7,
   "metadata": {},
   "outputs": [],
   "source": [
    "Cpg = 30/28.7               #Perry \n",
    "μg = 4.5E-5                    #Perry\n",
    "Pr = 0.70                    #Perry pg 2-451\n",
    "ρg = 0.013*28.7*1000/1000    #Perry pg 2-218\n",
    "\n",
    "kg = 0.02\n",
    "\n",
    "D = 1.8\n",
    "u = 10\n",
    "L = 5"
   ]
  },
  {
   "cell_type": "code",
   "execution_count": 8,
   "metadata": {},
   "outputs": [],
   "source": [
    "ρs = 8050\n",
    "Cps = 560\n",
    "\n",
    "ks = 20"
   ]
  },
  {
   "cell_type": "code",
   "execution_count": 9,
   "metadata": {},
   "outputs": [],
   "source": [
    "Re = D*u*ρg/μg\n",
    "Nu = 0.0296*Re**0.8*Pr**1/3     #Heat and Mass transfer Pg428\n",
    "h = Nu*kg/L                     #Heat and Mass transfer Pg411\n",
    "Bi = L*h/ks"
   ]
  },
  {
   "cell_type": "code",
   "execution_count": 10,
   "metadata": {},
   "outputs": [
    {
     "data": {
      "text/plain": [
       "0.38057186627602746"
      ]
     },
     "execution_count": 10,
     "metadata": {},
     "output_type": "execute_result"
    }
   ],
   "source": [
    "h"
   ]
  },
  {
   "cell_type": "code",
   "execution_count": 11,
   "metadata": {},
   "outputs": [
    {
     "data": {
      "text/plain": [
       "0.05"
      ]
     },
     "execution_count": 11,
     "metadata": {},
     "output_type": "execute_result"
    }
   ],
   "source": [
    "Time = 3600\n",
    "N = 100\n",
    "\n",
    "Nt = 1000\n",
    "\n",
    "G  = u*ρg     #kg/m2 s \n",
    "\n",
    "δt = Time/Nt\n",
    "δx = (L)/N\n",
    "\n",
    "Ri = 0.4\n",
    "a = 2*np.pi*Ri*δx\n",
    "\n",
    "V = np.pi*Ri**2*δx   # Volume of each step im m3\n",
    "\n",
    "To = 25+273.15\n",
    "Ts = 900+273.15\n",
    "T_initial = 25+273.15\n",
    "\n",
    "A_list = []\n",
    "F = Simulation([Nt,N,δx,δt])\n",
    "δx"
   ]
  },
  {
   "cell_type": "code",
   "execution_count": 12,
   "metadata": {},
   "outputs": [
    {
     "data": {
      "text/plain": [
       "[<matplotlib.lines.Line2D at 0x23fd8d95da0>]"
      ]
     },
     "execution_count": 12,
     "metadata": {},
     "output_type": "execute_result"
    },
    {
     "data": {
      "image/png": "[encoded data removed]",
      "text/plain": [
       "<Figure size 432x288 with 1 Axes>"
      ]
     },
     "metadata": {
      "needs_background": "light"
     },
     "output_type": "display_data"
    }
   ],
   "source": [
    "\"Temp along the Bed\"\n",
    "Temp_1 = []\n",
    "\n",
    "point = -1\n",
    "\n",
    "L_list = np.linspace(0,L,N)\n",
    "for i in range(N):\n",
    "    Temp_1.append(F[point][i])\n",
    "\n",
    "    \n",
    "ax = plt.subplot(111)\n",
    "plt.plot(L_list,Temp_1,'*', label = 'Temp_1')"
   ]
  },
  {
   "cell_type": "code",
   "execution_count": 13,
   "metadata": {},
   "outputs": [],
   "source": [
    "# \"End Values\"\n",
    "# Temp_1 = []\n",
    "\n",
    "# point = -1\n",
    "\n",
    "# r_list = np.linspace(0,Time,Nt)\n",
    "# for i in range(Nt):\n",
    "#     Temp_1.append(F[i][point])\n",
    "\n",
    "    \n",
    "# ax = plt.subplot(111)\n",
    "# plt.plot(r_list,Temp_1,'*', label = 'Temp_1')"
   ]
  },
  {
   "cell_type": "code",
   "execution_count": null,
   "metadata": {},
   "outputs": [],
   "source": []
  },
  {
   "cell_type": "code",
   "execution_count": 14,
   "metadata": {},
   "outputs": [],
   "source": [
    "workbook = xlsxwriter.Workbook('R_0.4.xlsx')\n",
    "worksheet = workbook.add_worksheet()\n",
    "\n",
    "array = [L_list,\n",
    "         Temp_1]\n",
    "\n",
    "row = 0\n",
    "\n",
    "for col, data in enumerate(array):\n",
    "    worksheet.write_column(row, col, data)\n",
    "    \n",
    "workbook.close()"
   ]
  },
  {
   "cell_type": "code",
   "execution_count": null,
   "metadata": {},
   "outputs": [],
   "source": []
  },
  {
   "cell_type": "code",
   "execution_count": null,
   "metadata": {},
   "outputs": [],
   "source": []
  },
  {
   "cell_type": "code",
   "execution_count": null,
   "metadata": {},
   "outputs": [],
   "source": []
  }
 ],
 "metadata": {
  "kernelspec": {
   "display_name": "Python 3",
   "language": "python",
   "name": "python3"
  },
  "language_info": {
   "codemirror_mode": {
    "name": "ipython",
    "version": 3
   },
   "file_extension": ".py",
   "mimetype": "text/x-python",
   "name": "python",
   "nbconvert_exporter": "python",
   "pygments_lexer": "ipython3",
   "version": "3.7.0"
  }
 },
 "nbformat": 4,
 "nbformat_minor": 2
}
