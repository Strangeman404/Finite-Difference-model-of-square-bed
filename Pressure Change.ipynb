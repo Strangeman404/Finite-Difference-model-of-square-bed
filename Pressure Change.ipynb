{
 "cells": [
  {
   "cell_type": "code",
   "execution_count": 7,
   "metadata": {},
   "outputs": [],
   "source": [
    "import numpy as np\n",
    "from matplotlib import pyplot as plt\n",
    "%matplotlib inline"
   ]
  },
  {
   "cell_type": "code",
   "execution_count": 14,
   "metadata": {},
   "outputs": [],
   "source": [
    "ϵ = 9/1000\n",
    "D_list = [0.2,0.4,0.6,0.8]\n",
    "\n",
    "μ = 4.5E-5\n",
    "u = 10\n",
    "ρ = 0.013*28.7*1000/1000\n",
    "L = 5\n",
    "δP_list = []"
   ]
  },
  {
   "cell_type": "code",
   "execution_count": 15,
   "metadata": {},
   "outputs": [],
   "source": [
    "for i in range(4):\n",
    "    D = D_list[i]\n",
    "    Re = (D*u*ρ)/μ\n",
    "\n",
    "    A = (-2.457*np.log((7/Re)**0.9 + 0.27*(ϵ/D)))**16\n",
    "    B = (37530/Re)**16\n",
    "    f = 8*((8/Re)**12 + 1/(A+B)**1.5)**1/12\n",
    "\n",
    "\n",
    "    δP = f*L/D*ρ*u**2/2\n",
    "    \n",
    "    δP_list.append(δP)"
   ]
  },
  {
   "cell_type": "code",
   "execution_count": 16,
   "metadata": {},
   "outputs": [
    {
     "data": {
      "text/plain": [
       "[6.745051528837038e-23,\n",
       " 9.844256342827057e-25,\n",
       " 1.0335191976625418e-25,\n",
       " 2.265920017465584e-26]"
      ]
     },
     "execution_count": 16,
     "metadata": {},
     "output_type": "execute_result"
    }
   ],
   "source": [
    "δP_list"
   ]
  },
  {
   "cell_type": "code",
   "execution_count": null,
   "metadata": {},
   "outputs": [],
   "source": []
  }
 ],
 "metadata": {
  "kernelspec": {
   "display_name": "Python 3",
   "language": "python",
   "name": "python3"
  },
  "language_info": {
   "codemirror_mode": {
    "name": "ipython",
    "version": 3
   },
   "file_extension": ".py",
   "mimetype": "text/x-python",
   "name": "python",
   "nbconvert_exporter": "python",
   "pygments_lexer": "ipython3",
   "version": "3.7.0"
  }
 },
 "nbformat": 4,
 "nbformat_minor": 2
}
